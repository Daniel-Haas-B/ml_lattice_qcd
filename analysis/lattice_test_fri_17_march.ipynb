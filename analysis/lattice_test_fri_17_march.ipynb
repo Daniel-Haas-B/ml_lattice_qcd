{
 "cells": [
  {
   "cell_type": "code",
   "execution_count": 3,
   "metadata": {},
   "outputs": [],
   "source": [
    "%reset -f\n",
    "\n",
    "import sys\n",
    "\n",
    "import numpy as np\n",
    "import pandas as pd\n",
    "import time\n",
    "sys.path.insert(\n",
    "    1, '/Users/haas/Documents/Masters/ml_lattice_qcd'\n",
    ")\n",
    "\n",
    "import random\n",
    "\n",
    "import matplotlib.pyplot as plt\n",
    "import seaborn as sns\n",
    "import sklearn\n",
    "from activation_functions import *\n",
    "from FFNN import FFNN\n",
    "\n",
    "# import accuracy score\n",
    "from sklearn.metrics import (\n",
    "    accuracy_score,\n",
    "    confusion_matrix,\n",
    "    mean_squared_error,\n",
    ")\n",
    "from tensorflow.keras import regularizers\n",
    "from tensorflow.keras.layers import Conv2D, Dense, Flatten, MaxPooling2D, BatchNormalization, SeparableConv2D\n",
    "from tensorflow.keras.models import Sequential\n",
    "from tensorflow.keras.optimizers import SGD, Adam\n",
    "from tensorflow.keras.optimizers.schedules import ExponentialDecay\n",
    "\n",
    "from utils import *\n",
    "\n",
    "cmt = 1 / 2.54\n",
    "sns.set_palette('pastel')"
   ]
  },
  {
   "cell_type": "markdown",
   "metadata": {},
   "source": [
    "### 1. Generating data above and below the critial temperature for Ahmed's blind check.\n",
    " "
   ]
  },
  {
   "cell_type": "code",
   "execution_count": 21,
   "metadata": {},
   "outputs": [
    {
     "name": "stdout",
     "output_type": "stream",
     "text": [
      "y above:  [[1.26]\n",
      " [1.31]\n",
      " [1.52]\n",
      " [1.26]\n",
      " [1.48]]\n",
      "y below:  [[3.33]\n",
      " [2.88]\n",
      " [3.38]\n",
      " [2.95]\n",
      " [3.04]]\n"
     ]
    }
   ],
   "source": [
    "data = pd.read_csv(\"../Ising/data/50/s3_cfg_L50_A0_mc1000000_burn1_tl1.000_tu3.530.csv\", header=None)\n",
    "X = data.iloc[:, :-1].to_numpy()\n",
    "y = data.iloc[:, -1][::50].to_numpy() # take every 50th collumn\n",
    "\n",
    "X = X.reshape(len(y), 50*50)\n",
    "y = y.reshape(len(y), 1)\n",
    "\n",
    "#tc = 2.269\n",
    "\n",
    "# get 5 random configurations with corresponding y between 1.0 and 1.7\n",
    "# get 5 random configurations with corresponding y between 2.8 and 3.5\n",
    "idx_above = np.random.choice(np.where((y > 1.0) & (y < 1.7))[0], 5)\n",
    "idx_below = np.random.choice(np.where((y > 2.8) & (y < 3.5))[0], 5)\n",
    "\n",
    "# get the according configurations\n",
    "X_above = X[idx_above]\n",
    "X_below = X[idx_below]\n",
    "\n",
    "# get the according y\n",
    "y_above = y[idx_above]\n",
    "y_below = y[idx_below]\n",
    "\n",
    "print(\"y above: \", y_above)\n",
    "print(\"y below: \", y_below)\n",
    "\n",
    "# save the configurations to different txt files\n",
    "for i in range(5):\n",
    "    np.savetxt(f\"../Ising/data/50/{i}.txt\", X_above[i].reshape(50, 50))\n",
    "    np.savetxt(f\"../Ising/data/50/{i + 5}.txt\", X_below[i].reshape(50, 50))\n",
    "\n"
   ]
  },
  {
   "cell_type": "markdown",
   "metadata": {},
   "source": [
    "### Part 2.1) Training classification on the whole range (including the neighborhood of critical temperature) and predicting Ahmeds files as below or above critical temp"
   ]
  },
  {
   "cell_type": "code",
   "execution_count": 37,
   "metadata": {},
   "outputs": [
    {
     "name": "stdout",
     "output_type": "stream",
     "text": [
      "8/8 [==============================] - 0s 6ms/step\n",
      "accuracy with CNN =  0.9920948616600791\n"
     ]
    },
    {
     "data": {
      "image/png": "[encoded data removed]",
      "text/plain": [
       "<Figure size 368.504x340.157 with 1 Axes>"
      ]
     },
     "metadata": {
      "needs_background": "light"
     },
     "output_type": "display_data"
    },
    {
     "data": {
      "image/png": "[encoded data removed]",
      "text/plain": [
       "<Figure size 368.504x340.157 with 1 Axes>"
      ]
     },
     "metadata": {
      "needs_background": "light"
     },
     "output_type": "display_data"
    }
   ],
   "source": [
    "# classification prediction of the Ising model\n",
    "Xtrain, Xtest, ytrain, ytest = Ising.load_data()\n",
    "\n",
    "y_test_copy = ytest.copy()\n",
    "\n",
    "true_tc = 2.269185314213022\n",
    "ytrain[ytrain < true_tc] = 0\n",
    "ytrain[ytrain >= true_tc] = 1\n",
    "ytest[ytest < true_tc] = 0\n",
    "ytest[ytest >= true_tc] = 1\n",
    "\n",
    "# shuffle y_copy in the exact same way as Xtrain and Xtest\n",
    "\n",
    "# use the convolutional neural network to classify the data into two classes\n",
    "# first reshape Xtrain and Xtest to 4D arrays\n",
    "Xtrain = Xtrain.reshape(Xtrain.shape[0], 50, 50, 1)\n",
    "Xtest = Xtest.reshape(Xtest.shape[0], 50, 50, 1)\n",
    "\n",
    "# create model\n",
    "model = Sequential()\n",
    "# add model layers\n",
    "l2_reg = regularizers.l2(0.01)\n",
    "model.add(\n",
    "    Conv2D(\n",
    "        6,\n",
    "        kernel_size=5,\n",
    "        activation='leaky_relu',\n",
    "        input_shape=(50, 50, 1),\n",
    "        kernel_regularizer=l2_reg,\n",
    "        padding='same',\n",
    "    )\n",
    ")\n",
    "# model.add(AveragePooling2D(pool_size=(4, 4)))\n",
    "model.add(MaxPooling2D(pool_size=(2, 2)))\n",
    "model.add(\n",
    "    Conv2D(\n",
    "        16,\n",
    "        kernel_size=5,\n",
    "        activation='leaky_relu',\n",
    "        kernel_regularizer=l2_reg,\n",
    "        padding='same',\n",
    "    )\n",
    ")\n",
    "model.add(MaxPooling2D(pool_size=(2, 2)))\n",
    "# model.add(AveragePooling2D(pool_size=(4, 4)))\n",
    "model.add(Flatten())\n",
    "model.add(Dense(120, activation='relu', kernel_regularizer=l2_reg))\n",
    "model.add(Dense(84, activation='relu', kernel_regularizer=l2_reg))\n",
    "model.add(Dense(1, activation='sigmoid'))\n",
    "\n",
    "# compile model using accuracy to measure model performance\n",
    "sgd = SGD(learning_rate=0.001, decay=5e-6, momentum=0.9, nesterov=True)\n",
    "adam = Adam(learning_rate=0.0001, beta_1=0.9, beta_2=0.999, amsgrad=False)\n",
    "\n",
    "model.compile(optimizer=sgd, loss='binary_crossentropy', metrics=['accuracy'])\n",
    "\n",
    "# train the model\n",
    "history = model.fit(Xtrain, ytrain, validation_data=(Xtest, ytest), epochs=400, verbose=0)\n",
    "\n",
    "# evaluate the model\n",
    "pred = model.predict(Xtest)\n",
    "soft_pred = pred\n",
    "hard_pred = np.round(pred)\n",
    "acc = accuracy_score(ytest, hard_pred)\n",
    "print('accuracy with CNN = ', acc)\n",
    "# accuracy with CNN =  0.9920948616600791\n",
    "\n",
    "# plot confusion matrix with seaborn\n",
    "plt.rcParams.update({'font.size': 12})\n",
    "fig = plt.figure(figsize=(13 * cmt, 12 * cmt))\n",
    "cm = confusion_matrix(ytest, hard_pred)\n",
    "sns.heatmap(cm, annot=True, fmt='d')\n",
    "# remove colorbar\n",
    "plt.gca().collections[0].colorbar.remove()\n",
    "plt.xticks(fontsize=12)\n",
    "plt.yticks(fontsize=12)\n",
    "# label as true positive, true negative, false positive, false negative\n",
    "plt.text(\n",
    "    0.5,\n",
    "    0.3,\n",
    "    'True positive',\n",
    "    ha='center',\n",
    "    va='center',\n",
    "    color='black',\n",
    "    fontsize=12,\n",
    ")\n",
    "plt.text(\n",
    "    1.5,\n",
    "    0.3,\n",
    "    'False positive',\n",
    "    ha='center',\n",
    "    va='center',\n",
    "    color='white',\n",
    "    fontsize=12,\n",
    ")\n",
    "plt.text(\n",
    "    0.5,\n",
    "    1.3,\n",
    "    'False negative',\n",
    "    ha='center',\n",
    "    va='center',\n",
    "    color='white',\n",
    "    fontsize=12,\n",
    ")\n",
    "plt.text(\n",
    "    1.5,\n",
    "    1.3,\n",
    "    'True negative',\n",
    "    ha='center',\n",
    "    va='center',\n",
    "    color='black',\n",
    "    fontsize=12,\n",
    ")\n",
    "plt.xlabel('Predicted')\n",
    "plt.ylabel('True')\n",
    "plt.xticks([0.5, 1.5], ['Above', 'Below'])\n",
    "plt.yticks([0.5, 1.5], ['Above', 'Below'])\n",
    "\n",
    "\n",
    "plt.show()\n",
    "################################################################\n",
    "# plot the probabilities as function of temperature\n",
    "plt.rcParams.update({'font.size': 12})\n",
    "\n",
    "fig = plt.figure(figsize=(13 * cmt, 12 * cmt))\n",
    "plt.plot(y_test_copy, soft_pred, 'o')\n",
    "plt.xlabel('Temperature (T) $J/k_B$')\n",
    "plt.ylabel('$P(T > T_c)$')\n",
    "plt.xticks(fontsize=12)\n",
    "plt.yticks(fontsize=12)\n",
    "\n",
    "# highlight the point where the probability is closest to 0.5\n",
    "plt.plot(\n",
    "    y_test_copy[np.argmin(np.abs(soft_pred - 0.5))],\n",
    "    soft_pred[np.argmin(np.abs(soft_pred - 0.5))],\n",
    "    'ro',\n",
    ")\n",
    "# print its temperature in the plot figure\n",
    "\n",
    "plt.text(\n",
    "    y_test_copy[np.argmin(np.abs(soft_pred - 0.5))],\n",
    "    soft_pred[np.argmin(np.abs(soft_pred - 0.5))],\n",
    "    str(y_test_copy[np.argmin(np.abs(soft_pred - 0.5))]),\n",
    ")\n",
    "\n",
    "plt.show()"
   ]
  },
  {
   "cell_type": "markdown",
   "metadata": {},
   "source": [
    "### Predicting Ahrmeds 10 files having trained on the whole range"
   ]
  },
  {
   "cell_type": "code",
   "execution_count": 35,
   "metadata": {},
   "outputs": [
    {
     "ename": "ValueError",
     "evalue": "in user code:\n\n    File \"/Users/haas/.pyenv/versions/3.10.2/lib/python3.10/site-packages/keras/engine/training.py\", line 2041, in predict_function  *\n        return step_function(self, iterator)\n    File \"/Users/haas/.pyenv/versions/3.10.2/lib/python3.10/site-packages/keras/engine/training.py\", line 2027, in step_function  **\n        outputs = model.distribute_strategy.run(run_step, args=(data,))\n    File \"/Users/haas/.pyenv/versions/3.10.2/lib/python3.10/site-packages/keras/engine/training.py\", line 2015, in run_step  **\n        outputs = model.predict_step(data)\n    File \"/Users/haas/.pyenv/versions/3.10.2/lib/python3.10/site-packages/keras/engine/training.py\", line 1983, in predict_step\n        return self(x, training=False)\n    File \"/Users/haas/.pyenv/versions/3.10.2/lib/python3.10/site-packages/keras/utils/traceback_utils.py\", line 70, in error_handler\n        raise e.with_traceback(filtered_tb) from None\n    File \"/Users/haas/.pyenv/versions/3.10.2/lib/python3.10/site-packages/keras/engine/input_spec.py\", line 295, in assert_input_compatibility\n        raise ValueError(\n\n    ValueError: Input 0 of layer \"sequential\" is incompatible with the layer: expected shape=(None, 50, 50, 1), found shape=(None, 80, 80, 1)\n",
     "output_type": "error",
     "traceback": [
      "\u001b[0;31m---------------------------------------------------------------------------\u001b[0m",
      "\u001b[0;31mValueError\u001b[0m                                Traceback (most recent call last)",
      "\u001b[1;32m/Users/haas/Documents/Masters/ml_lattice_qcd/analysis/lattice_test_fri_17_march.ipynb Cell 7\u001b[0m in \u001b[0;36m<cell line: 9>\u001b[0;34m()\u001b[0m\n\u001b[1;32m      <a href='vscode-notebook-cell:/Users/haas/Documents/Masters/ml_lattice_qcd/analysis/lattice_test_fri_17_march.ipynb#X54sZmlsZQ%3D%3D?line=1'>2</a>\u001b[0m data \u001b[39m=\u001b[39m data\u001b[39m.\u001b[39mto_numpy()\u001b[39m.\u001b[39mreshape(\u001b[39m80\u001b[39m, \u001b[39m80\u001b[39m)\n\u001b[1;32m      <a href='vscode-notebook-cell:/Users/haas/Documents/Masters/ml_lattice_qcd/analysis/lattice_test_fri_17_march.ipynb#X54sZmlsZQ%3D%3D?line=4'>5</a>\u001b[0m data \u001b[39m=\u001b[39m data\u001b[39m.\u001b[39mreshape(\u001b[39m1\u001b[39m, \u001b[39m80\u001b[39m, \u001b[39m80\u001b[39m, \u001b[39m1\u001b[39m)\n\u001b[0;32m----> <a href='vscode-notebook-cell:/Users/haas/Documents/Masters/ml_lattice_qcd/analysis/lattice_test_fri_17_march.ipynb#X54sZmlsZQ%3D%3D?line=8'>9</a>\u001b[0m pred \u001b[39m=\u001b[39m model\u001b[39m.\u001b[39;49mpredict(data)\n\u001b[1;32m     <a href='vscode-notebook-cell:/Users/haas/Documents/Masters/ml_lattice_qcd/analysis/lattice_test_fri_17_march.ipynb#X54sZmlsZQ%3D%3D?line=9'>10</a>\u001b[0m \u001b[39mprint\u001b[39m(pred)\n",
      "File \u001b[0;32m~/.pyenv/versions/3.10.2/lib/python3.10/site-packages/keras/utils/traceback_utils.py:70\u001b[0m, in \u001b[0;36mfilter_traceback.<locals>.error_handler\u001b[0;34m(*args, **kwargs)\u001b[0m\n\u001b[1;32m     67\u001b[0m     filtered_tb \u001b[39m=\u001b[39m _process_traceback_frames(e\u001b[39m.\u001b[39m__traceback__)\n\u001b[1;32m     68\u001b[0m     \u001b[39m# To get the full stack trace, call:\u001b[39;00m\n\u001b[1;32m     69\u001b[0m     \u001b[39m# `tf.debugging.disable_traceback_filtering()`\u001b[39;00m\n\u001b[0;32m---> 70\u001b[0m     \u001b[39mraise\u001b[39;00m e\u001b[39m.\u001b[39mwith_traceback(filtered_tb) \u001b[39mfrom\u001b[39;00m \u001b[39mNone\u001b[39m\n\u001b[1;32m     71\u001b[0m \u001b[39mfinally\u001b[39;00m:\n\u001b[1;32m     72\u001b[0m     \u001b[39mdel\u001b[39;00m filtered_tb\n",
      "File \u001b[0;32m/var/folders/gg/pt9rjjws0_b60pgd3qk984140000gn/T/__autograph_generated_filen6ssa8i1.py:15\u001b[0m, in \u001b[0;36mouter_factory.<locals>.inner_factory.<locals>.tf__predict_function\u001b[0;34m(iterator)\u001b[0m\n\u001b[1;32m     13\u001b[0m \u001b[39mtry\u001b[39;00m:\n\u001b[1;32m     14\u001b[0m     do_return \u001b[39m=\u001b[39m \u001b[39mTrue\u001b[39;00m\n\u001b[0;32m---> 15\u001b[0m     retval_ \u001b[39m=\u001b[39m ag__\u001b[39m.\u001b[39mconverted_call(ag__\u001b[39m.\u001b[39mld(step_function), (ag__\u001b[39m.\u001b[39mld(\u001b[39mself\u001b[39m), ag__\u001b[39m.\u001b[39mld(iterator)), \u001b[39mNone\u001b[39;00m, fscope)\n\u001b[1;32m     16\u001b[0m \u001b[39mexcept\u001b[39;00m:\n\u001b[1;32m     17\u001b[0m     do_return \u001b[39m=\u001b[39m \u001b[39mFalse\u001b[39;00m\n",
      "\u001b[0;31mValueError\u001b[0m: in user code:\n\n    File \"/Users/haas/.pyenv/versions/3.10.2/lib/python3.10/site-packages/keras/engine/training.py\", line 2041, in predict_function  *\n        return step_function(self, iterator)\n    File \"/Users/haas/.pyenv/versions/3.10.2/lib/python3.10/site-packages/keras/engine/training.py\", line 2027, in step_function  **\n        outputs = model.distribute_strategy.run(run_step, args=(data,))\n    File \"/Users/haas/.pyenv/versions/3.10.2/lib/python3.10/site-packages/keras/engine/training.py\", line 2015, in run_step  **\n        outputs = model.predict_step(data)\n    File \"/Users/haas/.pyenv/versions/3.10.2/lib/python3.10/site-packages/keras/engine/training.py\", line 1983, in predict_step\n        return self(x, training=False)\n    File \"/Users/haas/.pyenv/versions/3.10.2/lib/python3.10/site-packages/keras/utils/traceback_utils.py\", line 70, in error_handler\n        raise e.with_traceback(filtered_tb) from None\n    File \"/Users/haas/.pyenv/versions/3.10.2/lib/python3.10/site-packages/keras/engine/input_spec.py\", line 295, in assert_input_compatibility\n        raise ValueError(\n\n    ValueError: Input 0 of layer \"sequential\" is incompatible with the layer: expected shape=(None, 50, 50, 1), found shape=(None, 80, 80, 1)\n"
     ]
    }
   ],
   "source": [
    "for i in range(1, 11):\n",
    "\n",
    "    data = pd.read_csv(\"../Ising/data/50/ahmeds_configs/{i}.txt\", header=None, sep=\"\\t\")\n",
    "    data = data.to_numpy().reshape(80, 80)\n",
    "\n",
    "    data = data.reshape(1, 80, 80, 1)\n",
    "\n",
    "    pred = model.predict(data)\n",
    "    print(\"Above (1) or below (0) the critical temperature? \", pred)\n"
   ]
  },
  {
   "cell_type": "markdown",
   "metadata": {},
   "source": [
    "### Part 2.2) Training classification on the range (1.0 to 2.0 and 2.6 to 3.6) and predicting Ahmeds files as below or above critical temp"
   ]
  },
  {
   "cell_type": "markdown",
   "metadata": {},
   "source": [
    "### Retrain the network in the limited range"
   ]
  },
  {
   "cell_type": "code",
   "execution_count": 39,
   "metadata": {},
   "outputs": [
    {
     "name": "stdout",
     "output_type": "stream",
     "text": [
      "8/8 [==============================] - 0s 5ms/step\n",
      "accuracy with CNN =  0.9802371541501976\n"
     ]
    },
    {
     "data": {
      "image/png": "[encoded data removed]",
      "text/plain": [
       "<Figure size 368.504x340.157 with 1 Axes>"
      ]
     },
     "metadata": {
      "needs_background": "light"
     },
     "output_type": "display_data"
    },
    {
     "data": {
      "image/png": "[encoded data removed]",
      "text/plain": [
       "<Figure size 368.504x340.157 with 1 Axes>"
      ]
     },
     "metadata": {
      "needs_background": "light"
     },
     "output_type": "display_data"
    }
   ],
   "source": [
    "# classification prediction of the Ising model\n",
    "Xtrain, Xtest, ytrain, ytest = Ising.load_data()\n",
    "\n",
    "y_test_copy = ytest.copy()\n",
    "\n",
    "true_tc = 2.269185314213022\n",
    "\n",
    "## remove temperatures between 2.1 and 2.5 from the training set and test set\n",
    "# find the indices of the temperatures between 2.1 and 2.5\n",
    "idx = np.where((ytrain > 2.1) & (ytrain < 2.5))\n",
    "# remove the data points with these indices from the training set\n",
    "Xtrain = np.delete(Xtrain, idx, axis=0)\n",
    "ytrain = np.delete(ytrain, idx, axis=0)\n",
    "\n",
    "\n",
    "ytrain[ytrain < true_tc] = 0\n",
    "ytrain[ytrain >= true_tc] = 1\n",
    "ytest[ytest < true_tc] = 0\n",
    "ytest[ytest >= true_tc] = 1\n",
    "\n",
    "# shuffle y_copy in the exact same way as Xtrain and Xtest\n",
    "\n",
    "# use the convolutional neural network to classify the data into two classes\n",
    "# first reshape Xtrain and Xtest to 4D arrays\n",
    "Xtrain = Xtrain.reshape(Xtrain.shape[0], 50, 50, 1)\n",
    "Xtest = Xtest.reshape(Xtest.shape[0], 50, 50, 1)\n",
    "\n",
    "# create model\n",
    "model = Sequential()\n",
    "# add model layers\n",
    "l2_reg = regularizers.l2(0.01)\n",
    "model.add(\n",
    "    Conv2D(\n",
    "        6,\n",
    "        kernel_size=5,\n",
    "        activation='leaky_relu',\n",
    "        input_shape=(50, 50, 1),\n",
    "        kernel_regularizer=l2_reg,\n",
    "        padding='same',\n",
    "    )\n",
    ")\n",
    "# model.add(AveragePooling2D(pool_size=(4, 4)))\n",
    "model.add(MaxPooling2D(pool_size=(2, 2)))\n",
    "model.add(\n",
    "    Conv2D(\n",
    "        16,\n",
    "        kernel_size=5,\n",
    "        activation='leaky_relu',\n",
    "        kernel_regularizer=l2_reg,\n",
    "        padding='same',\n",
    "    )\n",
    ")\n",
    "model.add(MaxPooling2D(pool_size=(2, 2)))\n",
    "# model.add(AveragePooling2D(pool_size=(4, 4)))\n",
    "model.add(Flatten())\n",
    "model.add(Dense(120, activation='relu', kernel_regularizer=l2_reg))\n",
    "model.add(Dense(84, activation='relu', kernel_regularizer=l2_reg))\n",
    "model.add(Dense(1, activation='sigmoid'))\n",
    "\n",
    "# compile model using accuracy to measure model performance\n",
    "sgd = SGD(learning_rate=0.001, decay=5e-6, momentum=0.9, nesterov=True)\n",
    "adam = Adam(learning_rate=0.0001, beta_1=0.9, beta_2=0.999, amsgrad=False)\n",
    "\n",
    "model.compile(optimizer=sgd, loss='binary_crossentropy', metrics=['accuracy'])\n",
    "\n",
    "# train the model\n",
    "history = model.fit(Xtrain, ytrain, validation_data=(Xtest, ytest), epochs=400, verbose=0)\n",
    "\n",
    "# evaluate the model\n",
    "pred = model.predict(Xtest)\n",
    "soft_pred = pred\n",
    "hard_pred = np.round(pred)\n",
    "acc = accuracy_score(ytest, hard_pred)\n",
    "print('accuracy with CNN = ', acc)\n",
    "\n",
    "# plot confusion matrix with seaborn\n",
    "plt.rcParams.update({'font.size': 12})\n",
    "fig = plt.figure(figsize=(13 * cmt, 12 * cmt))\n",
    "cm = confusion_matrix(ytest, hard_pred)\n",
    "sns.heatmap(cm, annot=True, fmt='d')\n",
    "# remove colorbar\n",
    "plt.gca().collections[0].colorbar.remove()\n",
    "plt.xticks(fontsize=12)\n",
    "plt.yticks(fontsize=12)\n",
    "# label as true positive, true negative, false positive, false negative\n",
    "plt.text(\n",
    "    0.5,\n",
    "    0.3,\n",
    "    'True positive',\n",
    "    ha='center',\n",
    "    va='center',\n",
    "    color='black',\n",
    "    fontsize=12,\n",
    ")\n",
    "plt.text(\n",
    "    1.5,\n",
    "    0.3,\n",
    "    'False positive',\n",
    "    ha='center',\n",
    "    va='center',\n",
    "    color='white',\n",
    "    fontsize=12,\n",
    ")\n",
    "plt.text(\n",
    "    0.5,\n",
    "    1.3,\n",
    "    'False negative',\n",
    "    ha='center',\n",
    "    va='center',\n",
    "    color='white',\n",
    "    fontsize=12,\n",
    ")\n",
    "plt.text(\n",
    "    1.5,\n",
    "    1.3,\n",
    "    'True negative',\n",
    "    ha='center',\n",
    "    va='center',\n",
    "    color='black',\n",
    "    fontsize=12,\n",
    ")\n",
    "plt.xlabel('Predicted')\n",
    "plt.ylabel('True')\n",
    "plt.xticks([0.5, 1.5], ['Above', 'Below'])\n",
    "plt.yticks([0.5, 1.5], ['Above', 'Below'])\n",
    "\n",
    "\n",
    "plt.show()\n",
    "################################################################\n",
    "# plot the probabilities as function of temperature\n",
    "plt.rcParams.update({'font.size': 12})\n",
    "\n",
    "fig = plt.figure(figsize=(13 * cmt, 12 * cmt))\n",
    "plt.plot(y_test_copy, soft_pred, 'o')\n",
    "plt.xlabel('Temperature (T) $J/k_B$')\n",
    "plt.ylabel('$P(T > T_c)$')\n",
    "plt.xticks(fontsize=12)\n",
    "plt.yticks(fontsize=12)\n",
    "\n",
    "# highlight the point where the probability is closest to 0.5\n",
    "plt.plot(\n",
    "    y_test_copy[np.argmin(np.abs(soft_pred - 0.5))],\n",
    "    soft_pred[np.argmin(np.abs(soft_pred - 0.5))],\n",
    "    'ro',\n",
    ")\n",
    "# print its temperature in the plot figure\n",
    "\n",
    "plt.text(\n",
    "    y_test_copy[np.argmin(np.abs(soft_pred - 0.5))],\n",
    "    soft_pred[np.argmin(np.abs(soft_pred - 0.5))],\n",
    "    str(y_test_copy[np.argmin(np.abs(soft_pred - 0.5))]),\n",
    ")\n",
    "\n",
    "plt.show()"
   ]
  },
  {
   "cell_type": "code",
   "execution_count": 40,
   "metadata": {},
   "outputs": [
    {
     "ename": "FileNotFoundError",
     "evalue": "[Errno 2] No such file or directory: '../Ising/data/50/ahmeds_configs/{i}.txt'",
     "output_type": "error",
     "traceback": [
      "\u001b[0;31m---------------------------------------------------------------------------\u001b[0m",
      "\u001b[0;31mFileNotFoundError\u001b[0m                         Traceback (most recent call last)",
      "\u001b[1;32m/Users/haas/Documents/Masters/ml_lattice_qcd/analysis/lattice_test_fri_17_march.ipynb Cell 11\u001b[0m in \u001b[0;36m<cell line: 1>\u001b[0;34m()\u001b[0m\n\u001b[1;32m      <a href='vscode-notebook-cell:/Users/haas/Documents/Masters/ml_lattice_qcd/analysis/lattice_test_fri_17_march.ipynb#X55sZmlsZQ%3D%3D?line=0'>1</a>\u001b[0m \u001b[39mfor\u001b[39;00m i \u001b[39min\u001b[39;00m \u001b[39mrange\u001b[39m(\u001b[39m1\u001b[39m, \u001b[39m11\u001b[39m):\n\u001b[0;32m----> <a href='vscode-notebook-cell:/Users/haas/Documents/Masters/ml_lattice_qcd/analysis/lattice_test_fri_17_march.ipynb#X55sZmlsZQ%3D%3D?line=2'>3</a>\u001b[0m     data \u001b[39m=\u001b[39m pd\u001b[39m.\u001b[39;49mread_csv(\u001b[39m\"\u001b[39;49m\u001b[39m../Ising/data/50/ahmeds_configs/\u001b[39;49m\u001b[39m{i}\u001b[39;49;00m\u001b[39m.txt\u001b[39;49m\u001b[39m\"\u001b[39;49m, header\u001b[39m=\u001b[39;49m\u001b[39mNone\u001b[39;49;00m, sep\u001b[39m=\u001b[39;49m\u001b[39m\"\u001b[39;49m\u001b[39m\\t\u001b[39;49;00m\u001b[39m\"\u001b[39;49m)\n\u001b[1;32m      <a href='vscode-notebook-cell:/Users/haas/Documents/Masters/ml_lattice_qcd/analysis/lattice_test_fri_17_march.ipynb#X55sZmlsZQ%3D%3D?line=3'>4</a>\u001b[0m     data \u001b[39m=\u001b[39m data\u001b[39m.\u001b[39mto_numpy()\u001b[39m.\u001b[39mreshape(\u001b[39m80\u001b[39m, \u001b[39m80\u001b[39m)\n\u001b[1;32m      <a href='vscode-notebook-cell:/Users/haas/Documents/Masters/ml_lattice_qcd/analysis/lattice_test_fri_17_march.ipynb#X55sZmlsZQ%3D%3D?line=5'>6</a>\u001b[0m     data \u001b[39m=\u001b[39m data\u001b[39m.\u001b[39mreshape(\u001b[39m1\u001b[39m, \u001b[39m80\u001b[39m, \u001b[39m80\u001b[39m, \u001b[39m1\u001b[39m)\n",
      "File \u001b[0;32m~/.pyenv/versions/3.10.2/lib/python3.10/site-packages/pandas/util/_decorators.py:311\u001b[0m, in \u001b[0;36mdeprecate_nonkeyword_arguments.<locals>.decorate.<locals>.wrapper\u001b[0;34m(*args, **kwargs)\u001b[0m\n\u001b[1;32m    305\u001b[0m \u001b[39mif\u001b[39;00m \u001b[39mlen\u001b[39m(args) \u001b[39m>\u001b[39m num_allow_args:\n\u001b[1;32m    306\u001b[0m     warnings\u001b[39m.\u001b[39mwarn(\n\u001b[1;32m    307\u001b[0m         msg\u001b[39m.\u001b[39mformat(arguments\u001b[39m=\u001b[39marguments),\n\u001b[1;32m    308\u001b[0m         \u001b[39mFutureWarning\u001b[39;00m,\n\u001b[1;32m    309\u001b[0m         stacklevel\u001b[39m=\u001b[39mstacklevel,\n\u001b[1;32m    310\u001b[0m     )\n\u001b[0;32m--> 311\u001b[0m \u001b[39mreturn\u001b[39;00m func(\u001b[39m*\u001b[39;49margs, \u001b[39m*\u001b[39;49m\u001b[39m*\u001b[39;49mkwargs)\n",
      "File \u001b[0;32m~/.pyenv/versions/3.10.2/lib/python3.10/site-packages/pandas/io/parsers/readers.py:680\u001b[0m, in \u001b[0;36mread_csv\u001b[0;34m(filepath_or_buffer, sep, delimiter, header, names, index_col, usecols, squeeze, prefix, mangle_dupe_cols, dtype, engine, converters, true_values, false_values, skipinitialspace, skiprows, skipfooter, nrows, na_values, keep_default_na, na_filter, verbose, skip_blank_lines, parse_dates, infer_datetime_format, keep_date_col, date_parser, dayfirst, cache_dates, iterator, chunksize, compression, thousands, decimal, lineterminator, quotechar, quoting, doublequote, escapechar, comment, encoding, encoding_errors, dialect, error_bad_lines, warn_bad_lines, on_bad_lines, delim_whitespace, low_memory, memory_map, float_precision, storage_options)\u001b[0m\n\u001b[1;32m    665\u001b[0m kwds_defaults \u001b[39m=\u001b[39m _refine_defaults_read(\n\u001b[1;32m    666\u001b[0m     dialect,\n\u001b[1;32m    667\u001b[0m     delimiter,\n\u001b[0;32m   (...)\u001b[0m\n\u001b[1;32m    676\u001b[0m     defaults\u001b[39m=\u001b[39m{\u001b[39m\"\u001b[39m\u001b[39mdelimiter\u001b[39m\u001b[39m\"\u001b[39m: \u001b[39m\"\u001b[39m\u001b[39m,\u001b[39m\u001b[39m\"\u001b[39m},\n\u001b[1;32m    677\u001b[0m )\n\u001b[1;32m    678\u001b[0m kwds\u001b[39m.\u001b[39mupdate(kwds_defaults)\n\u001b[0;32m--> 680\u001b[0m \u001b[39mreturn\u001b[39;00m _read(filepath_or_buffer, kwds)\n",
      "File \u001b[0;32m~/.pyenv/versions/3.10.2/lib/python3.10/site-packages/pandas/io/parsers/readers.py:575\u001b[0m, in \u001b[0;36m_read\u001b[0;34m(filepath_or_buffer, kwds)\u001b[0m\n\u001b[1;32m    572\u001b[0m _validate_names(kwds\u001b[39m.\u001b[39mget(\u001b[39m\"\u001b[39m\u001b[39mnames\u001b[39m\u001b[39m\"\u001b[39m, \u001b[39mNone\u001b[39;00m))\n\u001b[1;32m    574\u001b[0m \u001b[39m# Create the parser.\u001b[39;00m\n\u001b[0;32m--> 575\u001b[0m parser \u001b[39m=\u001b[39m TextFileReader(filepath_or_buffer, \u001b[39m*\u001b[39;49m\u001b[39m*\u001b[39;49mkwds)\n\u001b[1;32m    577\u001b[0m \u001b[39mif\u001b[39;00m chunksize \u001b[39mor\u001b[39;00m iterator:\n\u001b[1;32m    578\u001b[0m     \u001b[39mreturn\u001b[39;00m parser\n",
      "File \u001b[0;32m~/.pyenv/versions/3.10.2/lib/python3.10/site-packages/pandas/io/parsers/readers.py:934\u001b[0m, in \u001b[0;36mTextFileReader.__init__\u001b[0;34m(self, f, engine, **kwds)\u001b[0m\n\u001b[1;32m    931\u001b[0m     \u001b[39mself\u001b[39m\u001b[39m.\u001b[39moptions[\u001b[39m\"\u001b[39m\u001b[39mhas_index_names\u001b[39m\u001b[39m\"\u001b[39m] \u001b[39m=\u001b[39m kwds[\u001b[39m\"\u001b[39m\u001b[39mhas_index_names\u001b[39m\u001b[39m\"\u001b[39m]\n\u001b[1;32m    933\u001b[0m \u001b[39mself\u001b[39m\u001b[39m.\u001b[39mhandles: IOHandles \u001b[39m|\u001b[39m \u001b[39mNone\u001b[39;00m \u001b[39m=\u001b[39m \u001b[39mNone\u001b[39;00m\n\u001b[0;32m--> 934\u001b[0m \u001b[39mself\u001b[39m\u001b[39m.\u001b[39m_engine \u001b[39m=\u001b[39m \u001b[39mself\u001b[39;49m\u001b[39m.\u001b[39;49m_make_engine(f, \u001b[39mself\u001b[39;49m\u001b[39m.\u001b[39;49mengine)\n",
      "File \u001b[0;32m~/.pyenv/versions/3.10.2/lib/python3.10/site-packages/pandas/io/parsers/readers.py:1218\u001b[0m, in \u001b[0;36mTextFileReader._make_engine\u001b[0;34m(self, f, engine)\u001b[0m\n\u001b[1;32m   1214\u001b[0m     mode \u001b[39m=\u001b[39m \u001b[39m\"\u001b[39m\u001b[39mrb\u001b[39m\u001b[39m\"\u001b[39m\n\u001b[1;32m   1215\u001b[0m \u001b[39m# error: No overload variant of \"get_handle\" matches argument types\u001b[39;00m\n\u001b[1;32m   1216\u001b[0m \u001b[39m# \"Union[str, PathLike[str], ReadCsvBuffer[bytes], ReadCsvBuffer[str]]\"\u001b[39;00m\n\u001b[1;32m   1217\u001b[0m \u001b[39m# , \"str\", \"bool\", \"Any\", \"Any\", \"Any\", \"Any\", \"Any\"\u001b[39;00m\n\u001b[0;32m-> 1218\u001b[0m \u001b[39mself\u001b[39m\u001b[39m.\u001b[39mhandles \u001b[39m=\u001b[39m get_handle(  \u001b[39m# type: ignore[call-overload]\u001b[39;49;00m\n\u001b[1;32m   1219\u001b[0m     f,\n\u001b[1;32m   1220\u001b[0m     mode,\n\u001b[1;32m   1221\u001b[0m     encoding\u001b[39m=\u001b[39;49m\u001b[39mself\u001b[39;49m\u001b[39m.\u001b[39;49moptions\u001b[39m.\u001b[39;49mget(\u001b[39m\"\u001b[39;49m\u001b[39mencoding\u001b[39;49m\u001b[39m\"\u001b[39;49m, \u001b[39mNone\u001b[39;49;00m),\n\u001b[1;32m   1222\u001b[0m     compression\u001b[39m=\u001b[39;49m\u001b[39mself\u001b[39;49m\u001b[39m.\u001b[39;49moptions\u001b[39m.\u001b[39;49mget(\u001b[39m\"\u001b[39;49m\u001b[39mcompression\u001b[39;49m\u001b[39m\"\u001b[39;49m, \u001b[39mNone\u001b[39;49;00m),\n\u001b[1;32m   1223\u001b[0m     memory_map\u001b[39m=\u001b[39;49m\u001b[39mself\u001b[39;49m\u001b[39m.\u001b[39;49moptions\u001b[39m.\u001b[39;49mget(\u001b[39m\"\u001b[39;49m\u001b[39mmemory_map\u001b[39;49m\u001b[39m\"\u001b[39;49m, \u001b[39mFalse\u001b[39;49;00m),\n\u001b[1;32m   1224\u001b[0m     is_text\u001b[39m=\u001b[39;49mis_text,\n\u001b[1;32m   1225\u001b[0m     errors\u001b[39m=\u001b[39;49m\u001b[39mself\u001b[39;49m\u001b[39m.\u001b[39;49moptions\u001b[39m.\u001b[39;49mget(\u001b[39m\"\u001b[39;49m\u001b[39mencoding_errors\u001b[39;49m\u001b[39m\"\u001b[39;49m, \u001b[39m\"\u001b[39;49m\u001b[39mstrict\u001b[39;49m\u001b[39m\"\u001b[39;49m),\n\u001b[1;32m   1226\u001b[0m     storage_options\u001b[39m=\u001b[39;49m\u001b[39mself\u001b[39;49m\u001b[39m.\u001b[39;49moptions\u001b[39m.\u001b[39;49mget(\u001b[39m\"\u001b[39;49m\u001b[39mstorage_options\u001b[39;49m\u001b[39m\"\u001b[39;49m, \u001b[39mNone\u001b[39;49;00m),\n\u001b[1;32m   1227\u001b[0m )\n\u001b[1;32m   1228\u001b[0m \u001b[39massert\u001b[39;00m \u001b[39mself\u001b[39m\u001b[39m.\u001b[39mhandles \u001b[39mis\u001b[39;00m \u001b[39mnot\u001b[39;00m \u001b[39mNone\u001b[39;00m\n\u001b[1;32m   1229\u001b[0m f \u001b[39m=\u001b[39m \u001b[39mself\u001b[39m\u001b[39m.\u001b[39mhandles\u001b[39m.\u001b[39mhandle\n",
      "File \u001b[0;32m~/.pyenv/versions/3.10.2/lib/python3.10/site-packages/pandas/io/common.py:786\u001b[0m, in \u001b[0;36mget_handle\u001b[0;34m(path_or_buf, mode, encoding, compression, memory_map, is_text, errors, storage_options)\u001b[0m\n\u001b[1;32m    781\u001b[0m \u001b[39melif\u001b[39;00m \u001b[39misinstance\u001b[39m(handle, \u001b[39mstr\u001b[39m):\n\u001b[1;32m    782\u001b[0m     \u001b[39m# Check whether the filename is to be opened in binary mode.\u001b[39;00m\n\u001b[1;32m    783\u001b[0m     \u001b[39m# Binary mode does not support 'encoding' and 'newline'.\u001b[39;00m\n\u001b[1;32m    784\u001b[0m     \u001b[39mif\u001b[39;00m ioargs\u001b[39m.\u001b[39mencoding \u001b[39mand\u001b[39;00m \u001b[39m\"\u001b[39m\u001b[39mb\u001b[39m\u001b[39m\"\u001b[39m \u001b[39mnot\u001b[39;00m \u001b[39min\u001b[39;00m ioargs\u001b[39m.\u001b[39mmode:\n\u001b[1;32m    785\u001b[0m         \u001b[39m# Encoding\u001b[39;00m\n\u001b[0;32m--> 786\u001b[0m         handle \u001b[39m=\u001b[39m \u001b[39mopen\u001b[39;49m(\n\u001b[1;32m    787\u001b[0m             handle,\n\u001b[1;32m    788\u001b[0m             ioargs\u001b[39m.\u001b[39;49mmode,\n\u001b[1;32m    789\u001b[0m             encoding\u001b[39m=\u001b[39;49mioargs\u001b[39m.\u001b[39;49mencoding,\n\u001b[1;32m    790\u001b[0m             errors\u001b[39m=\u001b[39;49merrors,\n\u001b[1;32m    791\u001b[0m             newline\u001b[39m=\u001b[39;49m\u001b[39m\"\u001b[39;49m\u001b[39m\"\u001b[39;49m,\n\u001b[1;32m    792\u001b[0m         )\n\u001b[1;32m    793\u001b[0m     \u001b[39melse\u001b[39;00m:\n\u001b[1;32m    794\u001b[0m         \u001b[39m# Binary mode\u001b[39;00m\n\u001b[1;32m    795\u001b[0m         handle \u001b[39m=\u001b[39m \u001b[39mopen\u001b[39m(handle, ioargs\u001b[39m.\u001b[39mmode)\n",
      "\u001b[0;31mFileNotFoundError\u001b[0m: [Errno 2] No such file or directory: '../Ising/data/50/ahmeds_configs/{i}.txt'"
     ]
    }
   ],
   "source": [
    "for i in range(1, 11):\n",
    "\n",
    "    data = pd.read_csv(\"../Ising/data/50/ahmeds_configs/{i}.txt\", header=None, sep=\"\\t\")\n",
    "    data = data.to_numpy().reshape(80, 80)\n",
    "\n",
    "    data = data.reshape(1, 80, 80, 1)\n",
    "\n",
    "    pred = model.predict(data)\n",
    "    print(\"Above (1) or below (0) the critical temperature? \", pred)"
   ]
  },
  {
   "cell_type": "code",
   "execution_count": null,
   "metadata": {},
   "outputs": [],
   "source": []
  }
 ],
 "metadata": {
  "kernelspec": {
   "display_name": "Python 3.10.2 64-bit ('3.10.2')",
   "language": "python",
   "name": "python3"
  },
  "language_info": {
   "codemirror_mode": {
    "name": "ipython",
    "version": 3
   },
   "file_extension": ".py",
   "mimetype": "text/x-python",
   "name": "python",
   "nbconvert_exporter": "python",
   "pygments_lexer": "ipython3",
   "version": "3.10.2"
  },
  "orig_nbformat": 4,
  "vscode": {
   "interpreter": {
    "hash": "725bbe29d1c18d191ac0c85feb075f75ad20654624becd29588183ed39edd8e6"
   }
  }
 },
 "nbformat": 4,
 "nbformat_minor": 2
}
