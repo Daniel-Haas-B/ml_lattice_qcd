{
 "cells": [
  {
   "cell_type": "code",
   "execution_count": 2,
   "metadata": {},
   "outputs": [],
   "source": [
    "import numpy as np\n",
    "import matplotlib.pyplot as plt\n",
    "import pandas as pd"
   ]
  },
  {
   "cell_type": "code",
   "execution_count": 66,
   "metadata": {},
   "outputs": [
    {
     "data": {
      "image/png": "[encoded data removed]",
      "text/plain": [
       "<Figure size 1080x360 with 3 Axes>"
      ]
     },
     "metadata": {},
     "output_type": "display_data"
    }
   ],
   "source": [
    "data = pd.read_csv(\"../Ising/data/50/s3_cfg_L50_A0_mc1000000_burn1_tl1.000_tu3.530.csv\", header=None)\n",
    "X_3 = data.iloc[:, :-1].to_numpy()\n",
    "\n",
    "y_3 = data.iloc[:, -1][::50].to_numpy() # take every 50th row\n",
    "\n",
    "X_3 = X_3.reshape(len(y_3), 50*50)\n",
    "y_3 = y_3.reshape(len(y_3), 1)\n",
    "# order by y\n",
    "X_3 = X_3[np.argsort(y_3[:, 0])]\n",
    "y_3 = y_3[np.argsort(y_3[:, 0])]\n",
    "\n",
    "# get first, midle and last ramples\n",
    "X_3_first = X_3[0].reshape(50, 50)\n",
    "X_3_middle = X_3[len(y_3)//2].reshape(50, 50)\n",
    "X_3_last = X_3[-1].reshape(50, 50)\n",
    "\n",
    "# get their y values\n",
    "y_3_first = y_3[0]\n",
    "# y_3 middle is the one with t closest to 2.27\n",
    "y_3_middle = y_3[len(y_3)//2]\n",
    "y_3_last = y_3[-1]\n",
    "\n",
    "# remove ticks\n",
    "\n",
    "fig, axs = plt.subplots(1, 3, figsize=(15, 5))\n",
    "axs[0].imshow(X_3_first, cmap = \"Purples\")\n",
    "axs[0].set_title(f\"T = {y_3_first[0]} $J/k_B$\", fontsize=30)\n",
    "axs[1].imshow(X_3_middle, cmap = \"Purples\")\n",
    "axs[1].set_title(f\"T = {y_3_middle[0]} $J/k_B$\", fontsize=30)\n",
    "axs[2].imshow(X_3_last, cmap = \"Purples\")\n",
    "axs[2].set_title(f\"T = {y_3_last[0]} $J/k_B$\", fontsize=30)\n",
    "for ax in axs:\n",
    "    ax.set_xticks([])\n",
    "    ax.set_yticks([])\n",
    "\n",
    "# tight layout\n",
    "plt.tight_layout(rect=[-0.06, 0, 1.04, 1]) \n",
    "for ax in axs:\n",
    "    ax.spines[\"top\"].set_visible(False)\n",
    "    ax.spines[\"right\"].set_visible(False)\n",
    "    ax.spines[\"bottom\"].set_visible(False)\n",
    "    ax.spines[\"left\"].set_visible(False)\n",
    "plt.savefig(\"../figs/L50_configs.pdf\")\n"
   ]
  }
 ],
 "metadata": {
  "kernelspec": {
   "display_name": "Python 3.10.2 64-bit ('3.10.2')",
   "language": "python",
   "name": "python3"
  },
  "language_info": {
   "codemirror_mode": {
    "name": "ipython",
    "version": 3
   },
   "file_extension": ".py",
   "mimetype": "text/x-python",
   "name": "python",
   "nbconvert_exporter": "python",
   "pygments_lexer": "ipython3",
   "version": "3.10.2"
  },
  "orig_nbformat": 4,
  "vscode": {
   "interpreter": {
    "hash": "725bbe29d1c18d191ac0c85feb075f75ad20654624becd29588183ed39edd8e6"
   }
  }
 },
 "nbformat": 4,
 "nbformat_minor": 2
}
